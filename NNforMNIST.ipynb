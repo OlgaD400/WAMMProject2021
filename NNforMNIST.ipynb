{
 "cells": [
  {
   "cell_type": "code",
   "execution_count": 3,
   "metadata": {},
   "outputs": [],
   "source": [
    "import numpy as np\n",
    "import matplotlib.pyplot as plt\n",
    "from mnist import MNIST\n",
    "import torch"
   ]
  },
  {
   "cell_type": "code",
   "execution_count": 2,
   "metadata": {},
   "outputs": [],
   "source": [
    "def load_dataset():\n",
    "    mndata = MNIST('./python-mnist/data/')\n",
    "    X_train, labels_train = map(np.array, mndata.load_training()) \n",
    "    X_test, labels_test = map(np.array, mndata.load_testing()) \n",
    "    X_train = X_train/255.0\n",
    "    X_test = X_test/255.0\n",
    "    \n",
    "    return X_train, X_test, labels_train, labels_test\n",
    "\n",
    "X_train, X_test, labels_train, labels_test = load_dataset()"
   ]
  },
  {
   "cell_type": "code",
   "execution_count": 4,
   "metadata": {},
   "outputs": [],
   "source": [
    "#Turn all data into torch tensors\n",
    "X_train = torch.from_numpy(X_train).float()\n",
    "X_test = torch.from_numpy(X_test).float()\n",
    "\n",
    "labels_train_ = torch.from_numpy(labels_train).float().type(torch.LongTensor)\n",
    "labels_test_ = torch.from_numpy(labels_test).float().type(torch.LongTensor)\n"
   ]
  },
  {
   "cell_type": "code",
   "execution_count": 5,
   "metadata": {},
   "outputs": [
    {
     "ename": "SyntaxError",
     "evalue": "invalid syntax (<ipython-input-5-765c2dc39b13>, line 4)",
     "output_type": "error",
     "traceback": [
      "\u001b[0;36m  File \u001b[0;32m\"<ipython-input-5-765c2dc39b13>\"\u001b[0;36m, line \u001b[0;32m4\u001b[0m\n\u001b[0;31m    alpha =\u001b[0m\n\u001b[0m            ^\u001b[0m\n\u001b[0;31mSyntaxError\u001b[0m\u001b[0;31m:\u001b[0m invalid syntax\n"
     ]
    }
   ],
   "source": [
    "def shallow_network():\n",
    "    \n",
    "    #Initialize weights and biases\n",
    "    alpha = \n",
    "    W0 = \n",
    "    W0.requires_grad = True #Tells pytorch to keep track of the gradient for these variables\n",
    "    W1 = \n",
    "    W1.requires_grad = True\n",
    "    b0 = \n",
    "    b0.requires_grad = True\n",
    "    b1 = \n",
    "    b1.requires_grad = True\n",
    "    \n",
    "    #Define optimizer \n",
    "    optimizer = torch.optim.Adam([W0, W1, b0, b1], lr = learning_rate)\n",
    "    \n",
    "    #activation function\n",
    "    activation = torch.nn.ReLU()\n",
    "    \n",
    "    while accuracy<target_accuracy:\n",
    "        \n",
    "        #clears all gradients from the previous step, so you don't accumulate them\n",
    "        optimizer.zero_grad()\n",
    "        \n",
    "        #NN layers to be put here\n",
    "        \n",
    "        loss = torch.nn.functional.cross_entropy(output, train_labels)\n",
    "        \n",
    "        #Computes derivatives of the loss with respect to W\n",
    "        loss.backward()\n",
    "        \n",
    "        #optimizer takes a step based on the gradients of the parameters\n",
    "        optimizer.step()\n",
    "        \n",
    "    return None\n",
    "    \n",
    "    \n",
    "def deeper_network():\n",
    "    \n",
    "    return None"
   ]
  },
  {
   "cell_type": "code",
   "execution_count": null,
   "metadata": {},
   "outputs": [],
   "source": []
  }
 ],
 "metadata": {
  "kernelspec": {
   "display_name": "Python 3",
   "language": "python",
   "name": "python3"
  },
  "language_info": {
   "codemirror_mode": {
    "name": "ipython",
    "version": 3
   },
   "file_extension": ".py",
   "mimetype": "text/x-python",
   "name": "python",
   "nbconvert_exporter": "python",
   "pygments_lexer": "ipython3",
   "version": "3.8.3"
  }
 },
 "nbformat": 4,
 "nbformat_minor": 4
}
