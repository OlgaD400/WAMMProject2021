{
 "cells": [
  {
   "cell_type": "markdown",
   "metadata": {},
   "source": [
    "# Week4 (Wuwei Zhang)"
   ]
  },
  {
   "cell_type": "code",
   "execution_count": 1,
   "metadata": {},
   "outputs": [],
   "source": [
    "import numpy as np\n",
    "import matplotlib.pyplot as plt\n",
    "from mnist import MNIST\n",
    "\n",
    "def load_dataset():\n",
    "    mndata = MNIST('C:/Users/Zhang/python-mnist/data')\n",
    "    A_train, labels_train = map(np.array, mndata.load_training()) \n",
    "    A_test, labels_test = map(np.array, mndata.load_testing()) \n",
    "    A_train = A_train/255.0\n",
    "    A_test = A_test/255.0\n",
    "    \n",
    "    return A_train, A_test, labels_train, labels_test\n",
    "\n",
    "A_train, A_test, labels_train, labels_test = load_dataset()\n",
    "\n",
    "\n",
    "B_labels_train = np.zeros((60000, 10))\n",
    "for i in range(len(labels_train)):\n",
    "    B_labels_train[i, labels_train[i]] = 1\n",
    "B_labels_test = np.zeros((10000, 10))\n",
    "for j in range(len(labels_test)):\n",
    "    B_labels_test[j, labels_test[j]] = 1\n",
    "    \n",
    "\n",
    "\n",
    "# Create Binary Classification Dataset   \n",
    "\n",
    "ind2 = np.where(labels_train == 2)[0]\n",
    "ind7 = np.where(labels_train ==7)[0]\n",
    "\n",
    "bin_A_train = np.vstack((A_train[ind2,:], A_train[ind7,:]))\n",
    "bin_label_train = np.hstack((-1*np.ones(len(ind2)), np.ones(len(ind7))))\n",
    "\n",
    "\n",
    "ind2_test = np.where(labels_test == 2)[0]\n",
    "ind7_test = np.where(labels_test ==7)[0]\n",
    "\n",
    "bin_A_test = np.vstack((A_test[ind2_test,:], A_test[ind7_test,:]))\n",
    "bin_label_test = np.hstack((-1*np.ones(len(ind2_test)), np.ones(len(ind7_test))))\n",
    "\n"
   ]
  },
  {
   "cell_type": "code",
   "execution_count": 2,
   "metadata": {},
   "outputs": [
    {
     "ename": "SyntaxError",
     "evalue": "invalid syntax (<ipython-input-2-b5617099d622>, line 10)",
     "output_type": "error",
     "traceback": [
      "\u001b[1;36m  File \u001b[1;32m\"<ipython-input-2-b5617099d622>\"\u001b[1;36m, line \u001b[1;32m10\u001b[0m\n\u001b[1;33m    def j_grad_x(x, y):\u001b[0m\n\u001b[1;37m    ^\u001b[0m\n\u001b[1;31mSyntaxError\u001b[0m\u001b[1;31m:\u001b[0m invalid syntax\n"
     ]
    }
   ],
   "source": [
    "# %% Use Minimize J(x,y) using gradient descent\n",
    "\n",
    "# Define err = $\\eta||x_{t+1} - x_t||_2 + \\eta|y_{t+1} - y|$\n",
    "\n",
    "def mu_i(x, y, i):\n",
    "    return 1/(1 + np.exp((-1)*bin_label_train[i]*(y+bin_A_train[i].T@x))\n",
    "\n",
    "              \n",
    "\n",
    "def j_grad_x(x, y):\n",
    "    s = np.zeros(784)\n",
    "    for i in range(12223):\n",
    "        s1 = (-1)*bin_label_train[i]*(bin_A_train[i].T)*(1-mu_i(x, y, i))\n",
    "        s = np.add(s, s1)\n",
    "    return s / 12223 + 0.01 * 2 * x\n"
   ]
  },
  {
   "cell_type": "code",
   "execution_count": null,
   "metadata": {},
   "outputs": [],
   "source": []
  }
 ],
 "metadata": {
  "kernelspec": {
   "display_name": "Python 3",
   "language": "python",
   "name": "python3"
  },
  "language_info": {
   "codemirror_mode": {
    "name": "ipython",
    "version": 3
   },
   "file_extension": ".py",
   "mimetype": "text/x-python",
   "name": "python",
   "nbconvert_exporter": "python",
   "pygments_lexer": "ipython3",
   "version": "3.8.5"
  }
 },
 "nbformat": 4,
 "nbformat_minor": 4
}
