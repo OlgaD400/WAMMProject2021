{
 "cells": [
  {
   "cell_type": "code",
   "execution_count": 1,
   "metadata": {},
   "outputs": [],
   "source": [
    "import numpy as np\n",
    "import matplotlib.pyplot as plt"
   ]
  },
  {
   "cell_type": "markdown",
   "metadata": {},
   "source": [
    "# SVD\n",
    "\n",
    "$A = USV^T$\n",
    "\n",
    "Properties:\n",
    "\n",
    "$U$ and $V$ are orthogonal matrices so that $U^TU = I$ and $V^TV = I$.\n",
    "\n",
    "$S$ is a diagonal matrix containing singular values.  These are the square roots of the eigenvalues of $A^TA$ or $AA^T$. \n",
    "\n",
    "The eigenvectors of $A^TA$ make up the columns of $V$ , the eigenvectors of $AA^T$  make up the columns of $U$. \n",
    "\n",
    "First step in finding the SVD, find the singular values of $AA^T$!"
   ]
  },
  {
   "cell_type": "code",
   "execution_count": 251,
   "metadata": {},
   "outputs": [
    {
     "name": "stdout",
     "output_type": "stream",
     "text": [
      "A \n",
      "\n",
      " [[ 3  2  2]\n",
      " [ 2  3 -2]] \n",
      "\n",
      " AAT \n",
      "\n",
      " [[17  8]\n",
      " [ 8 17]] \n",
      "\n",
      " ATA \n",
      "\n",
      " [[13 12  2]\n",
      " [12 13 -2]\n",
      " [ 2 -2  8]]\n"
     ]
    }
   ],
   "source": [
    "A = np.array([[3,2,2], [2,3,-2]])\n",
    "\n",
    "print('A \\n\\n', A, '\\n\\n AAT \\n\\n', A@A.T, '\\n\\n ATA \\n\\n', A.T@A)"
   ]
  },
  {
   "cell_type": "markdown",
   "metadata": {},
   "source": [
    "$A^TA = \\begin{bmatrix} 17 & 8 \\\\ 8 & 17\\end{bmatrix}$\n",
    "\n",
    "$A^TA - \\lambda I = \\begin{bmatrix} 17-\\lambda & 8 \\\\ 8 & 17-\\lambda \\end{bmatrix}$\n",
    "\n",
    "We find the characteristic polynomial of $A^TA$, which for a square matrix is the determinant of $A^T A$\n",
    "\n",
    "$det(A^TA - \\lambda I) = (17 - \\lambda)^2 - 8^2 = \\lambda^2 + 34 \\lambda + 225 = (\\lambda - 25)(\\lambda - 9)$\n",
    "\n",
    "Our eigenvalues are the zeroes of the characteristic polynomial.  $\\lambda_1 = 25$ and $\\lambda_2 = 9$.  Our singular values are the square roots of the eigenvalues: $\\sigma_1 = 5$ and $\\sigma_2 = 3$\n",
    "\n",
    "Now we proceed by either finding the right singular vectors (the columns of V ) by finding an orthonormal\n",
    "set of eigenvectors of $A^T A$ or by finding the left singular vectors (columns of U) as the orthonormal set of eigenvectors of $AA^T$ instead. \n",
    "\n",
    "For $\\lambda = 25$\n",
    "\n",
    "$A^TA - 25I = \\begin{bmatrix} 13-25 & 12 & 2 \\\\ 12 & 13-25 & -2 \\\\ 2 & -2 & 8-25\\end{bmatrix} = \\begin{bmatrix} -12 & 12 & 2 \\\\ 12 & -12 & -2 \\\\ 2 & -2 & -17\\end{bmatrix}$\n",
    "\n",
    "We reduce the matrix to reduced row-echelon form\n",
    "\n",
    "$\\begin{bmatrix} -12 & 12 & 2 \\\\ 12 & -12 & -2 \\\\ 2 & -2 & -17\\end{bmatrix} \\rightarrow \\begin{bmatrix} -12 & 12 & 2 \\\\ 0 & 0 & 0 \\\\ 2 & -2 & -17\\end{bmatrix} \\rightarrow \\begin{bmatrix} 1 & -1 & -1/6 \\\\ 2 & -2 & -17 \\\\ 0 & 0 & 0\\end{bmatrix} \\rightarrow \\begin{bmatrix} 1 & -1 & -1/6 \\\\ 0 & 0 & -50/3\\\\ 0 & 0 & 0\\end{bmatrix} \\rightarrow \\begin{bmatrix} 1 & -1 & -1/6 \\\\ 0 & 0 & 1\\\\ 0 & 0 & 0\\end{bmatrix}$\n",
    "\n",
    "To find the eigenvector of this matrix, we first look for a vector for which the following equation is satisfied:\n",
    "\n",
    "$\\begin{bmatrix} 1 & -1 & -1/6 \\\\ 0 & 0 & 1\\\\ 0 & 0 & 0\\end{bmatrix} \\begin{bmatrix} x_1 \\\\ x_2 \\\\ x_3 \\end{bmatrix} = \\begin{bmatrix} 0 \\\\ 0 \\\\ 0 \\end{bmatrix}$\n",
    "\n",
    "$x_1 - x_2 - 1/6 x_3 = 0$\n",
    "\n",
    "$x_3 = 0$ \n",
    "\n",
    "$x_1 = x_2$ and $x_3 = 0$\n",
    "\n",
    "$x_1$ and $x_2$ can be anything, so let's make them $x_1 = x_2 = 1$\n",
    "\n",
    "Our first eigenvector $v_1 = \\begin{bmatrix}1 \\\\1 \\\\ 0 \\end{bmatrix}$.  However, the columns of an orthonormal matrix must have unit length.  Therefore, we divide $v_1$ by it's norm.  \n",
    "\n",
    "$v_1 = \\frac{v_1}{||v_1||_2} = \\begin{bmatrix}1/\\sqrt{2} \\\\1/\\sqrt{2} \\\\ 0 \\end{bmatrix}$\n",
    "\n",
    "We repeat the same process for $\\lambda = 9$ to find $v_2 = \\begin{bmatrix}1/\\sqrt{18} \\\\-1/\\sqrt{18} \\\\ 4/\\sqrt{18} \\end{bmatrix}$\n",
    "\n",
    "The third column of $V$ has to be perpendicular to the first two columns.  Two vectors are perpendicular if their dot products are zero.  \n",
    "\n",
    "$1/\\sqrt{2} x_1 + 1/\\sqrt{2} x_2 = 0 \\rightarrow x_1 + x_2 = 0$\n",
    "\n",
    "$1/\\sqrt{18} x_1 -1/\\sqrt{18} x_2 + 4/\\sqrt{18} x_3 = 0 \\rightarrow x_1 - x_2 + 4x_3 = 0$\n",
    "\n",
    "$2x_1 + 4x_3 = 0$\n",
    "\n",
    "$x_1 = -x_2 = -2x_3$\n",
    "\n",
    "Let's say $v_3 = \\begin{bmatrix}1\\\\ -1\\\\ -2\\end{bmatrix}$.  Now, we need to make sure it has unit length\n",
    "\n",
    "$v_3 = \\frac{v_3}{||v_3|_2} = \\begin{bmatrix}2/3 \\\\ -2/3\\\\ -1/3\\end{bmatrix}$\n",
    "\n",
    "\n",
    "Now, we have $V^T = \\begin{bmatrix} 1\\sqrt{2} & 1/\\sqrt{2} & 0 \\\\ 1/\\sqrt{18} & -1/\\sqrt{18} & 4/\\sqrt{18}\\\\ 2/3 & -2/3 & -1/3\\end{bmatrix}$ \n",
    "\n",
    "We now want to find $U$.  \n",
    "\n",
    "$A = USV^T$\n",
    "\n",
    "$AV = US$\n",
    "\n",
    "$AVS^{-1} = U$\n",
    "\n",
    "We can carry out the matrix multiplication to find \n",
    "\n",
    "$U = \\begin{bmatrix} 1/\\sqrt{2} & 1/\\sqrt{2} \\\\ 1/\\sqrt{2}  & -1/\\sqrt{2}\\end{bmatrix}$\n",
    "\n",
    "$A = \\begin{bmatrix} 1/\\sqrt{2} & 1/\\sqrt{2} \\\\ 1/\\sqrt{2}  & -1/\\sqrt{2}\\end{bmatrix} \\begin{bmatrix} 5 & 0 & 0 \\\\ 0 & 3 & 0 \\end{bmatrix}\\begin{bmatrix} 1\\sqrt{2} & 1/\\sqrt{2} & 0 \\\\ 1/\\sqrt{18} & -1/\\sqrt{18} & 4/\\sqrt{18}\\\\ 2/3 & -2/3 & -1/3\\end{bmatrix}$\n"
   ]
  },
  {
   "cell_type": "code",
   "execution_count": 109,
   "metadata": {},
   "outputs": [
    {
     "name": "stdout",
     "output_type": "stream",
     "text": [
      "A \n",
      "\n",
      " [[5 2]\n",
      " [1 3]]  \n",
      "\n",
      " U \n",
      "\n",
      "  [[-0.9092909 -0.4161611]\n",
      " [-0.4161611  0.9092909]] \n",
      "\n",
      " S \n",
      "\n",
      " [[5.83390451 0.        ]\n",
      " [0.         2.22835324]] \n",
      "\n",
      " Vh \n",
      "\n",
      " [[-0.85065081 -0.52573111]\n",
      " [-0.52573111  0.85065081]]\n"
     ]
    }
   ],
   "source": [
    "A = np.array([[5, 2], [1, 3]])\n",
    "\n",
    "U,S,Vh = np.linalg.svd(A)      \n",
    "\n",
    "print('A \\n\\n', A, ' \\n\\n U \\n\\n ', U, '\\n\\n S \\n\\n',  np.diag(S),'\\n\\n Vh \\n\\n',  Vh)"
   ]
  },
  {
   "cell_type": "markdown",
   "metadata": {},
   "source": [
    "U and V are unitary/orthogonal matrices, i.e. square matrices whose columns and rows are orthonormal vectors! Let's check if this is true.\n"
   ]
  },
  {
   "cell_type": "code",
   "execution_count": 99,
   "metadata": {},
   "outputs": [
    {
     "name": "stdout",
     "output_type": "stream",
     "text": [
      "Check rows and columns are perpendicular vectors\n",
      "\n",
      "\n",
      " dot product of columns of U 1.1102230246251565e-16 \n",
      "\n",
      " rows of U 1.1102230246251565e-16 \n",
      "\n",
      " columns of Vh 0.0 \n",
      "\n",
      " rows of Vh 0.0\n",
      "\n",
      "\n",
      " Check UTU and VTV are I \n",
      "\n",
      "\n",
      "UTU \n",
      "\n",
      " [[1.00000000e+00 1.27560764e-16]\n",
      " [1.27560764e-16 1.00000000e+00]] \n",
      "\n",
      " VTV \n",
      "\n",
      " [[1.00000000e+00 2.29948585e-17]\n",
      " [2.29948585e-17 1.00000000e+00]]\n"
     ]
    }
   ],
   "source": [
    "print('Check rows and columns are perpendicular vectors')\n",
    "print('\\n\\n dot product of columns of U', np.dot(U[:,0], U[:,1]), '\\n\\n rows of U', np.dot(U[0,:],U[1,:]), \n",
    "      '\\n\\n columns of Vh', np.dot(Vh[:,0], Vh[:,1]), '\\n\\n rows of Vh', np.dot(Vh[0,:],Vh[1,:]))\n",
    "\n",
    "print('\\n\\n Check UTU and VTV are I \\n\\n')\n",
    "\n",
    "print('UTU \\n\\n', U.T@U, '\\n\\n VTV \\n\\n', Vh.T@Vh)"
   ]
  },
  {
   "cell_type": "code",
   "execution_count": 93,
   "metadata": {},
   "outputs": [
    {
     "name": "stdout",
     "output_type": "stream",
     "text": [
      "[[1. 0.]\n",
      " [0. 1.]] \n",
      "\n",
      " [[5. 2.]\n",
      " [1. 3.]] \n",
      "\n",
      " [[-0.85065081 -0.52573111]\n",
      " [-0.52573111  0.85065081]] \n",
      "\n",
      " [[-4.96261559 -3.06706511]\n",
      " [-1.17151463  1.89555048]] \n",
      "\n",
      " [[5. 2.]\n",
      " [1. 3.]]\n",
      "\n",
      "\n",
      " length of vectors from step 2 to 3 [5.09901951 3.60555128] [5.09901951 3.60555128]\n"
     ]
    },
    {
     "data": {
      "image/png": "[encoded data removed]",
      "text/plain": [
       "<Figure size 432x288 with 1 Axes>"
      ]
     },
     "metadata": {
      "needs_background": "light"
     },
     "output_type": "display_data"
    },
    {
     "data": {
      "image/png": "[encoded data removed]",
      "text/plain": [
       "<Figure size 432x288 with 1 Axes>"
      ]
     },
     "metadata": {
      "needs_background": "light"
     },
     "output_type": "display_data"
    },
    {
     "data": {
      "image/png": "[encoded data removed]",
      "text/plain": [
       "<Figure size 432x288 with 1 Axes>"
      ]
     },
     "metadata": {
      "needs_background": "light"
     },
     "output_type": "display_data"
    },
    {
     "data": {
      "image/png": "[encoded data removed]",
      "text/plain": [
       "<Figure size 432x288 with 1 Axes>"
      ]
     },
     "metadata": {
      "needs_background": "light"
     },
     "output_type": "display_data"
    },
    {
     "data": {
      "image/png": "[encoded data removed]",
      "text/plain": [
       "<Figure size 432x288 with 1 Axes>"
      ]
     },
     "metadata": {
      "needs_background": "light"
     },
     "output_type": "display_data"
    }
   ],
   "source": [
    "B = np.eye(2)\n",
    "\n",
    "print(B, '\\n\\n', B@A, '\\n\\n', Vh@B, '\\n\\n', np.diag(S)@(Vh)@B, '\\n\\n', ((B@U)@np.diag(S))@Vh)\n",
    "\n",
    "origin = np.array([[0, 0],[0, 0]]) # origin point \n",
    "\n",
    "plt.figure()\n",
    "plt.quiver(*origin, B[:,0], B[:, 1],  color = ['r', 'b'], angles='xy', scale_units='xy', scale=1)\n",
    "plt.axis([-6, 6, -6, 6])\n",
    "plt.title('B')\n",
    "\n",
    "plt.figure()\n",
    "plt.quiver(*origin, Vh[:,0], Vh[:,1], color = ['r', 'b'], angles='xy', scale_units='xy', scale=1)\n",
    "plt.axis([-6, 6, -6, 6])\n",
    "plt.title('Vh@B')\n",
    "\n",
    "scale = np.diag(S)@(Vh)\n",
    "\n",
    "plt.figure()\n",
    "plt.quiver(*origin, scale[:,0], scale[:,1], color = ['r', 'b'], angles='xy', scale_units='xy', scale=1)\n",
    "plt.axis([-6, 6, -6, 6])\n",
    "plt.title('np.diag(S)@(Vh@B)')\n",
    "\n",
    "final = U@np.diag(S)@(Vh)\n",
    "\n",
    "plt.figure()\n",
    "plt.quiver(*origin, final[:,0], final[:,1], color = ['r', 'b'], angles='xy', scale_units='xy', scale=1)\n",
    "plt.axis([-6, 6, -6, 6])\n",
    "plt.title('U@np.diag(S)@(Vh@B)')\n",
    "\n",
    "plt.figure()\n",
    "plt.quiver(*origin, A[:,0], A[:,1], color = ['r', 'b'], angles='xy', scale_units='xy', scale=1)\n",
    "plt.axis([-6, 6, -6, 6])\n",
    "plt.title('A')\n",
    "\n",
    "\n",
    "print('\\n\\n length of vectors from step 2 to 3', np.linalg.norm(scale, 2, axis = 0), np.linalg.norm(final, 2, axis=0))\n"
   ]
  },
  {
   "cell_type": "markdown",
   "metadata": {},
   "source": [
    "We want to find $A^{-1}$. We know $U^TU = I$ and $V^TV = I$.  We also know $A = USV^T$.  Show $A^{-1} = VS^{-1}U^T$.  That means, show $A^{-1}A = I$ and $AA^{-1} = I$.\n",
    "\n",
    "$A^{-1}A = VS^{-1}U^T(USV^T) = VS^{-1}SV^T = VV^T = I$\n",
    "\n",
    "$AA^{-1} = USV^T(VS^{-1}U^T) = USS^{-1}U^T = UU^T = I$\n",
    "\n",
    "Great! We have shown $A^{-1} = VS^{-1}U^T$.\n",
    "\n",
    "This means, that once we find the SVD, we know everything we need to know.  $S^{-1}$ is easy to find, because $S$ is a diagonal matrix.  The inverse of a diagonal matrix, is simply the inverse of the entries on the diagonal. "
   ]
  },
  {
   "cell_type": "code",
   "execution_count": 120,
   "metadata": {},
   "outputs": [
    {
     "name": "stdout",
     "output_type": "stream",
     "text": [
      "S \n",
      "\n",
      " [[1 0 0]\n",
      " [0 2 0]\n",
      " [0 0 3]] \n",
      "\n",
      " Sinv \n",
      "\n",
      " [[1.         0.         0.        ]\n",
      " [0.         0.5        0.        ]\n",
      " [0.         0.         0.33333333]]\n"
     ]
    }
   ],
   "source": [
    "S = np.diag([1,2,3])\n",
    "\n",
    "Sinv = np.linalg.inv(S)\n",
    "\n",
    "print('S \\n\\n', S, '\\n\\n Sinv \\n\\n', Sinv)"
   ]
  },
  {
   "cell_type": "markdown",
   "metadata": {},
   "source": [
    "The logic is to undo the rotations and stretching from the original operation.  So undo the last rotation $U^T$, unstretch $1/s_i$, and undo the first rotation $V$"
   ]
  },
  {
   "cell_type": "code",
   "execution_count": 119,
   "metadata": {},
   "outputs": [
    {
     "name": "stdout",
     "output_type": "stream",
     "text": [
      "[[5 2]\n",
      " [1 3]] \n",
      "\n",
      " [[-4.96261559 -3.06706511]\n",
      " [-1.17151463  1.89555048]] \n",
      "\n",
      " [[-0.85065081 -0.52573111]\n",
      " [-0.52573111  0.85065081]] \n",
      "\n",
      " [[1.00000000e+00 2.77555756e-16]\n",
      " [1.11022302e-16 1.00000000e+00]]\n"
     ]
    },
    {
     "data": {
      "text/plain": [
       "Text(0.5, 1.0, 'B')"
      ]
     },
     "execution_count": 119,
     "metadata": {},
     "output_type": "execute_result"
    },
    {
     "data": {
      "image/png": "[encoded data removed]",
      "text/plain": [
       "<Figure size 432x288 with 1 Axes>"
      ]
     },
     "metadata": {
      "needs_background": "light"
     },
     "output_type": "display_data"
    },
    {
     "data": {
      "image/png": "[encoded data removed]",
      "text/plain": [
       "<Figure size 432x288 with 1 Axes>"
      ]
     },
     "metadata": {
      "needs_background": "light"
     },
     "output_type": "display_data"
    },
    {
     "data": {
      "image/png": "[encoded data removed]",
      "text/plain": [
       "<Figure size 432x288 with 1 Axes>"
      ]
     },
     "metadata": {
      "needs_background": "light"
     },
     "output_type": "display_data"
    },
    {
     "data": {
      "image/png": "[encoded data removed]",
      "text/plain": [
       "<Figure size 432x288 with 1 Axes>"
      ]
     },
     "metadata": {
      "needs_background": "light"
     },
     "output_type": "display_data"
    },
    {
     "data": {
      "image/png": "[encoded data removed]",
      "text/plain": [
       "<Figure size 432x288 with 1 Axes>"
      ]
     },
     "metadata": {
      "needs_background": "light"
     },
     "output_type": "display_data"
    }
   ],
   "source": [
    "print(A, '\\n\\n', U.T@A, '\\n\\n',np.diag(1/S)@(U.T)@A, '\\n\\n', Vh.T@np.diag(1/S)@(U.T)@A)\n",
    "\n",
    "plt.figure()\n",
    "plt.quiver(*origin, A[:,0], A[:, 1],  color = ['r', 'b'], angles='xy', scale_units='xy', scale=1)\n",
    "plt.axis([-6, 6, -6, 6])\n",
    "plt.title('A')\n",
    "\n",
    "rotate = U.T@A\n",
    "\n",
    "plt.figure()\n",
    "plt.quiver(*origin, rotate[:,0], rotate[:,1], color = ['r', 'b'], angles='xy', scale_units='xy', scale=1)\n",
    "plt.axis([-6, 6, -6, 6])\n",
    "plt.title('U.T@A')\n",
    "\n",
    "scale = np.diag(1/S)@U.T@A\n",
    "\n",
    "plt.figure()\n",
    "plt.quiver(*origin, scale[:,0], scale[:,1], color = ['r', 'b'], angles='xy', scale_units='xy', scale=1)\n",
    "plt.axis([-6, 6, -6, 6])\n",
    "plt.title('np.diag(1/S)@U.T@A')\n",
    "\n",
    "final = Vh.T@np.diag(1/S)@U.T@A\n",
    "\n",
    "plt.figure()\n",
    "plt.quiver(*origin, final[:,0], final[:,1], color = ['r', 'b'], angles='xy', scale_units='xy', scale=1)\n",
    "plt.axis([-6, 6, -6, 6])\n",
    "plt.title('Vh.T@np.diag(1/S)@U.T@A')\n",
    "\n",
    "plt.figure()\n",
    "plt.quiver(*origin, B[:,0], B[:,1], color = ['r', 'b'], angles='xy', scale_units='xy', scale=1)\n",
    "plt.axis([-6, 6, -6, 6])\n",
    "plt.title('B')\n",
    "\n"
   ]
  },
  {
   "cell_type": "markdown",
   "metadata": {},
   "source": [
    "# What happens if A does not have an inverse?"
   ]
  },
  {
   "cell_type": "code",
   "execution_count": 139,
   "metadata": {},
   "outputs": [
    {
     "name": "stdout",
     "output_type": "stream",
     "text": [
      "A \n",
      "\n",
      " [[1 2 3]\n",
      " [1 2 5]\n",
      " [1 2 4]]  \n",
      "\n",
      " U \n",
      "\n",
      "  [[-0.46093796  0.78795275 -0.40824829]\n",
      " [-0.67984527 -0.60921567 -0.40824829]\n",
      " [-0.57039162  0.08936854  0.81649658]] \n",
      "\n",
      " S \n",
      "\n",
      " [[8.03337644e+00 0.00000000e+00 0.00000000e+00]\n",
      " [0.00000000e+00 6.81808654e-01 0.00000000e+00]\n",
      " [0.00000000e+00 0.00000000e+00 1.73878773e-17]] \n",
      "\n",
      " Vh \n",
      "\n",
      " [[-2.13008175e-01 -4.26016350e-01 -8.79282427e-01]\n",
      " [ 3.93227056e-01  7.86454111e-01 -4.76300759e-01]\n",
      " [-8.94427191e-01  4.47213595e-01  4.18972642e-17]]\n"
     ]
    }
   ],
   "source": [
    "A = np.array([[1,2, 3], [1,2, 5], [1,2,4]])\n",
    "\n",
    "U, S, Vh = np.linalg.svd(A)\n",
    "\n",
    "print('A \\n\\n', A, ' \\n\\n U \\n\\n ', U, '\\n\\n S \\n\\n',  np.diag(S),'\\n\\n Vh \\n\\n',  Vh)\n"
   ]
  },
  {
   "cell_type": "markdown",
   "metadata": {},
   "source": [
    "A no longer has an inverse, because one of its singular values is 0!"
   ]
  },
  {
   "cell_type": "code",
   "execution_count": 140,
   "metadata": {},
   "outputs": [
    {
     "ename": "LinAlgError",
     "evalue": "Singular matrix",
     "output_type": "error",
     "traceback": [
      "\u001b[0;31m---------------------------------------------------------------------------\u001b[0m",
      "\u001b[0;31mLinAlgError\u001b[0m                               Traceback (most recent call last)",
      "\u001b[0;32m<ipython-input-140-91b18e07fae9>\u001b[0m in \u001b[0;36m<module>\u001b[0;34m\u001b[0m\n\u001b[0;32m----> 1\u001b[0;31m \u001b[0mprint\u001b[0m\u001b[0;34m(\u001b[0m\u001b[0mnp\u001b[0m\u001b[0;34m.\u001b[0m\u001b[0mlinalg\u001b[0m\u001b[0;34m.\u001b[0m\u001b[0minv\u001b[0m\u001b[0;34m(\u001b[0m\u001b[0mA\u001b[0m\u001b[0;34m)\u001b[0m\u001b[0;34m)\u001b[0m\u001b[0;34m\u001b[0m\u001b[0;34m\u001b[0m\u001b[0m\n\u001b[0m",
      "\u001b[0;32m<__array_function__ internals>\u001b[0m in \u001b[0;36minv\u001b[0;34m(*args, **kwargs)\u001b[0m\n",
      "\u001b[0;32m/opt/anaconda3/lib/python3.8/site-packages/numpy/linalg/linalg.py\u001b[0m in \u001b[0;36minv\u001b[0;34m(a)\u001b[0m\n\u001b[1;32m    545\u001b[0m     \u001b[0msignature\u001b[0m \u001b[0;34m=\u001b[0m \u001b[0;34m'D->D'\u001b[0m \u001b[0;32mif\u001b[0m \u001b[0misComplexType\u001b[0m\u001b[0;34m(\u001b[0m\u001b[0mt\u001b[0m\u001b[0;34m)\u001b[0m \u001b[0;32melse\u001b[0m \u001b[0;34m'd->d'\u001b[0m\u001b[0;34m\u001b[0m\u001b[0;34m\u001b[0m\u001b[0m\n\u001b[1;32m    546\u001b[0m     \u001b[0mextobj\u001b[0m \u001b[0;34m=\u001b[0m \u001b[0mget_linalg_error_extobj\u001b[0m\u001b[0;34m(\u001b[0m\u001b[0m_raise_linalgerror_singular\u001b[0m\u001b[0;34m)\u001b[0m\u001b[0;34m\u001b[0m\u001b[0;34m\u001b[0m\u001b[0m\n\u001b[0;32m--> 547\u001b[0;31m     \u001b[0mainv\u001b[0m \u001b[0;34m=\u001b[0m \u001b[0m_umath_linalg\u001b[0m\u001b[0;34m.\u001b[0m\u001b[0minv\u001b[0m\u001b[0;34m(\u001b[0m\u001b[0ma\u001b[0m\u001b[0;34m,\u001b[0m \u001b[0msignature\u001b[0m\u001b[0;34m=\u001b[0m\u001b[0msignature\u001b[0m\u001b[0;34m,\u001b[0m \u001b[0mextobj\u001b[0m\u001b[0;34m=\u001b[0m\u001b[0mextobj\u001b[0m\u001b[0;34m)\u001b[0m\u001b[0;34m\u001b[0m\u001b[0;34m\u001b[0m\u001b[0m\n\u001b[0m\u001b[1;32m    548\u001b[0m     \u001b[0;32mreturn\u001b[0m \u001b[0mwrap\u001b[0m\u001b[0;34m(\u001b[0m\u001b[0mainv\u001b[0m\u001b[0;34m.\u001b[0m\u001b[0mastype\u001b[0m\u001b[0;34m(\u001b[0m\u001b[0mresult_t\u001b[0m\u001b[0;34m,\u001b[0m \u001b[0mcopy\u001b[0m\u001b[0;34m=\u001b[0m\u001b[0;32mFalse\u001b[0m\u001b[0;34m)\u001b[0m\u001b[0;34m)\u001b[0m\u001b[0;34m\u001b[0m\u001b[0;34m\u001b[0m\u001b[0m\n\u001b[1;32m    549\u001b[0m \u001b[0;34m\u001b[0m\u001b[0m\n",
      "\u001b[0;32m/opt/anaconda3/lib/python3.8/site-packages/numpy/linalg/linalg.py\u001b[0m in \u001b[0;36m_raise_linalgerror_singular\u001b[0;34m(err, flag)\u001b[0m\n\u001b[1;32m     95\u001b[0m \u001b[0;34m\u001b[0m\u001b[0m\n\u001b[1;32m     96\u001b[0m \u001b[0;32mdef\u001b[0m \u001b[0m_raise_linalgerror_singular\u001b[0m\u001b[0;34m(\u001b[0m\u001b[0merr\u001b[0m\u001b[0;34m,\u001b[0m \u001b[0mflag\u001b[0m\u001b[0;34m)\u001b[0m\u001b[0;34m:\u001b[0m\u001b[0;34m\u001b[0m\u001b[0;34m\u001b[0m\u001b[0m\n\u001b[0;32m---> 97\u001b[0;31m     \u001b[0;32mraise\u001b[0m \u001b[0mLinAlgError\u001b[0m\u001b[0;34m(\u001b[0m\u001b[0;34m\"Singular matrix\"\u001b[0m\u001b[0;34m)\u001b[0m\u001b[0;34m\u001b[0m\u001b[0;34m\u001b[0m\u001b[0m\n\u001b[0m\u001b[1;32m     98\u001b[0m \u001b[0;34m\u001b[0m\u001b[0m\n\u001b[1;32m     99\u001b[0m \u001b[0;32mdef\u001b[0m \u001b[0m_raise_linalgerror_nonposdef\u001b[0m\u001b[0;34m(\u001b[0m\u001b[0merr\u001b[0m\u001b[0;34m,\u001b[0m \u001b[0mflag\u001b[0m\u001b[0;34m)\u001b[0m\u001b[0;34m:\u001b[0m\u001b[0;34m\u001b[0m\u001b[0;34m\u001b[0m\u001b[0m\n",
      "\u001b[0;31mLinAlgError\u001b[0m: Singular matrix"
     ]
    }
   ],
   "source": [
    "print(np.linalg.inv(A))"
   ]
  },
  {
   "cell_type": "markdown",
   "metadata": {},
   "source": [
    "But we can find a psuedo-inverse.  $A^{-1} \\approx V \\Sigma U^T$ where we define $\\Sigma$ as a matrix with $1/s_i$ for nonzero entires of $S$ and $0$ for $0$ entries of S\n",
    "\n"
   ]
  },
  {
   "cell_type": "code",
   "execution_count": 146,
   "metadata": {},
   "outputs": [
    {
     "name": "stdout",
     "output_type": "stream",
     "text": [
      "Sigma \n",
      "\n",
      " [[0.12448066 0.         0.        ]\n",
      " [0.         1.46668716 0.        ]\n",
      " [0.         0.         0.        ]] \n",
      "\n",
      "\n",
      "numpy pinv \n",
      "\n",
      " [[ 4.66666667e-01 -3.33333333e-01  6.66666667e-02]\n",
      " [ 9.33333333e-01 -6.66666667e-01  1.33333333e-01]\n",
      " [-5.00000000e-01  5.00000000e-01  5.53693930e-19]] \n",
      "\n",
      " our pinv \n",
      "\n",
      " [[ 0.46666667 -0.33333333  0.06666667]\n",
      " [ 0.93333333 -0.66666667  0.13333333]\n",
      " [-0.5         0.5         0.        ]]\n"
     ]
    }
   ],
   "source": [
    "Apinv = np.linalg.pinv(A)\n",
    "\n",
    "Sigma = np.zeros((3,3))\n",
    "Sigma[np.arange(2), np.arange(2)] = 1/S[:2]\n",
    "\n",
    "print('Sigma \\n\\n', Sigma, '\\n\\n')\n",
    "\n",
    "pinverse = Vh.T@Sigma@U.T\n",
    "\n",
    "print('numpy pinv \\n\\n', Apinv, '\\n\\n our pinv \\n\\n', pinverse)\n"
   ]
  },
  {
   "cell_type": "markdown",
   "metadata": {},
   "source": [
    "Same process works when A is not a square matrix."
   ]
  },
  {
   "cell_type": "code",
   "execution_count": 211,
   "metadata": {},
   "outputs": [
    {
     "name": "stdout",
     "output_type": "stream",
     "text": [
      "A \n",
      "\n",
      " [[0.03727729 0.16450971 0.21549141 0.65229641 0.1061889 ]\n",
      " [0.53077848 0.61508567 0.05578091 0.50145004 0.41650245]\n",
      " [0.05514942 0.08928034 0.13342802 0.76177817 0.87349197]\n",
      " [0.91972796 0.6769716  0.83972271 0.86447231 0.99980358]\n",
      " [0.26803916 0.94731076 0.3914981  0.67068038 0.60632952]\n",
      " [0.53723812 0.65290212 0.89520142 0.34652062 0.32815456]]  \n",
      "\n",
      " U \n",
      "\n",
      "  [[-0.18614686 -0.23341926  0.08318438 -0.69340196 -0.64414386 -0.09065073]\n",
      " [-0.32186663 -0.01648763  0.48560074  0.51324357 -0.45248367  0.43836231]\n",
      " [-0.31081434 -0.76432207 -0.25992493 -0.03195345  0.3125875   0.39104128]\n",
      " [-0.64026404  0.08177359 -0.46144119  0.31107813 -0.1694085  -0.49495274]\n",
      " [-0.4438988  -0.00623513  0.65537013 -0.19989913  0.47630249 -0.32646782]\n",
      " [-0.39769521  0.5952559  -0.21742431 -0.34354688  0.16450825  0.54327542]] \n",
      "\n",
      " S \n",
      "\n",
      " [[2.98454283 0.         0.         0.         0.        ]\n",
      " [0.         0.9032092  0.         0.         0.        ]\n",
      " [0.         0.         0.59015053 0.         0.        ]\n",
      " [0.         0.         0.         0.47464636 0.        ]\n",
      " [0.         0.         0.         0.         0.33951281]\n",
      " [0.         0.         0.         0.         0.        ]] \n",
      "\n",
      " Vh \n",
      "\n",
      " [[-0.37407009 -0.45901665 -0.3910098  -0.50547403 -0.49089981]\n",
      " [ 0.36949128  0.35574887  0.49368242 -0.52035837 -0.47161825]\n",
      " [-0.2016969   0.7721154  -0.53412396  0.11024135 -0.25634861]\n",
      " [ 0.61681345 -0.00908767 -0.5259513  -0.42868783  0.39882396]\n",
      " [-0.54991571  0.25787919  0.20365618 -0.52706428  0.55840705]]\n"
     ]
    }
   ],
   "source": [
    "A = np.random.rand(6,5)\n",
    "\n",
    "U,S,Vh = np.linalg.svd(A)\n",
    "\n",
    "Sigma = np.zeros((6,5))\n",
    "Sigma[np.arange(5), np.arange(5)] = S\n",
    "\n",
    "print('A \\n\\n', A, ' \\n\\n U \\n\\n ', U, '\\n\\n S \\n\\n',  Sigma,'\\n\\n Vh \\n\\n',  Vh)"
   ]
  },
  {
   "cell_type": "markdown",
   "metadata": {},
   "source": [
    "# Why else is the SVD super cool?\n",
    "\n",
    "The entries of S, known as singular values, tell us a lot of information! We can use them for dimensionality reduction!"
   ]
  },
  {
   "cell_type": "code",
   "execution_count": 220,
   "metadata": {},
   "outputs": [],
   "source": [
    "from mnist import MNIST\n",
    "\n",
    "def load_dataset():\n",
    "    mndata = MNIST('./python-mnist/data/')\n",
    "    X_train, labels_train = map(np.array, mndata.load_training()) \n",
    "    X_test, labels_test = map(np.array, mndata.load_testing()) \n",
    "    X_train = X_train/255.0\n",
    "    X_test = X_test/255.0\n",
    "    \n",
    "    return X_train, X_test, labels_train, labels_test\n",
    "\n",
    "X_train, X_test, labels_train, labels_test = load_dataset()\n",
    "\n"
   ]
  },
  {
   "cell_type": "markdown",
   "metadata": {},
   "source": [
    "Let's take a single image in the MNIST data set:"
   ]
  },
  {
   "cell_type": "code",
   "execution_count": 230,
   "metadata": {},
   "outputs": [
    {
     "data": {
      "text/plain": [
       "<matplotlib.image.AxesImage at 0x7f8b492cbee0>"
      ]
     },
     "execution_count": 230,
     "metadata": {},
     "output_type": "execute_result"
    },
    {
     "data": {
      "image/png": "[encoded data removed]",
      "text/plain": [
       "<Figure size 432x288 with 1 Axes>"
      ]
     },
     "metadata": {
      "needs_background": "light"
     },
     "output_type": "display_data"
    }
   ],
   "source": [
    "image = X_train[0].reshape(28,28)\n",
    "\n",
    "plt.imshow(image)"
   ]
  },
  {
   "cell_type": "markdown",
   "metadata": {},
   "source": [
    "I want to represent this image with as few pixels as possible! Let's use the SVD."
   ]
  },
  {
   "cell_type": "code",
   "execution_count": 256,
   "metadata": {},
   "outputs": [
    {
     "name": "stdout",
     "output_type": "stream",
     "text": [
      "singular values \n",
      "\n",
      " [7.17794455e+00 4.26097316e+00 2.91638877e+00 2.17268255e+00\n",
      " 1.93660480e+00 1.43710313e+00 1.08048559e+00 8.46567024e-01\n",
      " 5.29774602e-01 4.27165770e-01 3.09601558e-01 2.64421349e-01\n",
      " 2.55522274e-01 1.45562359e-01 1.29301242e-01 8.69435125e-02\n",
      " 6.74827332e-02 2.88063377e-02 5.57708250e-03 6.79616286e-05\n",
      " 4.78732172e-16 4.78732172e-16 4.78732172e-16 4.78732172e-16\n",
      " 4.78732172e-16 4.78732172e-16 4.78732172e-16 4.78732172e-16]\n"
     ]
    }
   ],
   "source": [
    "U,S, Vh = np.linalg.svd(image)\n",
    "\n",
    "print('singular values \\n\\n', S)\n",
    "\n",
    "Sigma = np.diag(S)\n",
    "\n"
   ]
  },
  {
   "cell_type": "code",
   "execution_count": 243,
   "metadata": {},
   "outputs": [
    {
     "name": "stdout",
     "output_type": "stream",
     "text": [
      "number of singular values used in reconstruction: 1\n",
      "number of singular values used in reconstruction: 3\n",
      "number of singular values used in reconstruction: 5\n",
      "number of singular values used in reconstruction: 7\n",
      "number of singular values used in reconstruction: 9\n",
      "number of singular values used in reconstruction: 11\n",
      "number of singular values used in reconstruction: 13\n",
      "number of singular values used in reconstruction: 15\n",
      "number of singular values used in reconstruction: 17\n",
      "number of singular values used in reconstruction: 19\n",
      "number of singular values used in reconstruction: 21\n",
      "number of singular values used in reconstruction: 23\n",
      "number of singular values used in reconstruction: 25\n",
      "number of singular values used in reconstruction: 27\n"
     ]
    },
    {
     "data": {
      "image/png": "[encoded data removed]",
      "text/plain": [
       "<Figure size 432x288 with 1 Axes>"
      ]
     },
     "metadata": {
      "needs_background": "light"
     },
     "output_type": "display_data"
    },
    {
     "data": {
      "image/png": "[encoded data removed]",
      "text/plain": [
       "<Figure size 432x288 with 1 Axes>"
      ]
     },
     "metadata": {
      "needs_background": "light"
     },
     "output_type": "display_data"
    },
    {
     "data": {
      "image/png": "[encoded data removed]",
      "text/plain": [
       "<Figure size 432x288 with 1 Axes>"
      ]
     },
     "metadata": {
      "needs_background": "light"
     },
     "output_type": "display_data"
    },
    {
     "data": {
      "image/png": "[encoded data removed]",
      "text/plain": [
       "<Figure size 432x288 with 1 Axes>"
      ]
     },
     "metadata": {
      "needs_background": "light"
     },
     "output_type": "display_data"
    },
    {
     "data": {
      "image/png": "[encoded data removed]",
      "text/plain": [
       "<Figure size 432x288 with 1 Axes>"
      ]
     },
     "metadata": {
      "needs_background": "light"
     },
     "output_type": "display_data"
    },
    {
     "data": {
      "image/png": "[encoded data removed]",
      "text/plain": [
       "<Figure size 432x288 with 1 Axes>"
      ]
     },
     "metadata": {
      "needs_background": "light"
     },
     "output_type": "display_data"
    },
    {
     "data": {
      "image/png": "[encoded data removed]",
      "text/plain": [
       "<Figure size 432x288 with 1 Axes>"
      ]
     },
     "metadata": {
      "needs_background": "light"
     },
     "output_type": "display_data"
    },
    {
     "data": {
      "image/png": "[encoded data removed]",
      "text/plain": [
       "<Figure size 432x288 with 1 Axes>"
      ]
     },
     "metadata": {
      "needs_background": "light"
     },
     "output_type": "display_data"
    },
    {
     "data": {
      "image/png": "[encoded data removed]",
      "text/plain": [
       "<Figure size 432x288 with 1 Axes>"
      ]
     },
     "metadata": {
      "needs_background": "light"
     },
     "output_type": "display_data"
    },
    {
     "data": {
      "image/png": "[encoded data removed]",
      "text/plain": [
       "<Figure size 432x288 with 1 Axes>"
      ]
     },
     "metadata": {
      "needs_background": "light"
     },
     "output_type": "display_data"
    },
    {
     "data": {
      "image/png": "[encoded data removed]",
      "text/plain": [
       "<Figure size 432x288 with 1 Axes>"
      ]
     },
     "metadata": {
      "needs_background": "light"
     },
     "output_type": "display_data"
    },
    {
     "data": {
      "image/png": "[encoded data removed]",
      "text/plain": [
       "<Figure size 432x288 with 1 Axes>"
      ]
     },
     "metadata": {
      "needs_background": "light"
     },
     "output_type": "display_data"
    },
    {
     "data": {
      "image/png": "[encoded data removed]",
      "text/plain": [
       "<Figure size 432x288 with 1 Axes>"
      ]
     },
     "metadata": {
      "needs_background": "light"
     },
     "output_type": "display_data"
    },
    {
     "data": {
      "image/png": "[encoded data removed]",
      "text/plain": [
       "<Figure size 432x288 with 1 Axes>"
      ]
     },
     "metadata": {
      "needs_background": "light"
     },
     "output_type": "display_data"
    }
   ],
   "source": [
    "for i in range(1, 28, 2):\n",
    "    print('number of singular values used in reconstruction:', i)\n",
    "    image_recon = U[:,:i]@Sigma[:i,:i]@Vh[:i,:]\n",
    "\n",
    "    \n",
    "    plt.figure()\n",
    "    plt.imshow(image_recon)"
   ]
  },
  {
   "cell_type": "markdown",
   "metadata": {},
   "source": [
    "Tasks for next week:\n",
    "\n",
    "1) What are the most important pixels for each digit? You were right! Just use the big X solution.  Pick out the top 40 pixels for each column (some may be zero) and visualize them. \n",
    "\n",
    "0viz = np.zeros(784)\n",
    "\n",
    "0viz[indices of top 40 largest pixles for 0th column] = values at those 40 indices\n",
    "\n",
    "plt.imshow(0viz.reshape(28,28))\n",
    "\n",
    "\n",
    "1) How to choose $\\lambda$? Cross validation!\n",
    "\n",
    "We want to choose a value of $\\lambda$ that gives us the highest accuracy/lowest error on the test set.  But we can't tune $\\lambda$ on our test set! That's cheating!!\n",
    "\n",
    "Instead, we can split our train data into training and validation.  See function train_test_split()\n",
    "\n",
    "Then, we can calculate our train and validation errors for various values of lambda.  The validation error, should be a good estimate of test error, since we're validating on data we haven't trained our model on.  We choose the value of lambda that gives us the lowest validation error.  Usually, validation error decreases up to some point and then increases.  As we decrease $\\lambda$, both training and validation error will decrease, since we'll allow more information to be stored in $X$.  At some point however, we'll be forming a model that is too specialized to the train set and won't generalize well.  That's when we expect to see the validation error increase. \n",
    "\n",
    "We'll define error as number of wrong predictions (np.count_nonzero(predictions - true_predictions) divided by N (the number of predictions)\n",
    "\n",
    "Plot both your validation error and train error on a sing;e plot with $\\lambda$ on the x-axis and classification error on the y-axis. \n",
    "\n",
    "\n",
    "2) Solve using ridge regression\n",
    "\n",
    "Let's do ridge regression again, but now by hand!  No built in solvers. \n",
    "\n",
    "$\\widehat{X} = \\arg \\min_{X \\in \\mathbb{R}^{d\\times k}}||AX - B||_2^2 + \\lambda ||X||_F^2 = \\arg \\min_{X \\in \\mathbb{R}^{d\\times k}} \\sum_{i=1}^n ||X^Ta_i - b_i||_2^2 + \\lambda ||X||_F^2$\n",
    "\n",
    "\n",
    "Here, the Frobenius norm is defined as $||W||_F^2 = \\sum_{i=1}^d \\sum_{j=1}^k X_{ij}^2$  $a_i \\in \\mathbb{R}^d$ is a single row of our train matrix $A$.  $b_i$ is a single row of our labels $B$. \n",
    "\n",
    "Let $e_i$ denote a vector of all $0$'s except for a $1$ in the $ith$ position. \n",
    "\n",
    "$\\sum_{i=1} ||X^T a_i - b_i||_2^2 + \\lambda ||X||_F^2 = \\sum_{j=0}^k \\bigg[\\sum_{i=1}^n (e_j^TX^Ta_i - e_j^Tb_i)^2 + \\lambda ||Xe_j||^2 \\bigg] = $\n",
    "\n",
    "$=\\sum_{j=0}^k \\bigg[\\sum_{i=1}^n (x_j^Ta_i - e_j^Tb_i)^2 + \\lambda ||x_j||^2 \\bigg]$\n",
    "\n",
    "$= \\sum_{j=0}^k ||Ax_j - Be_j||^2 + \\lambda ||x_j||^2$\n",
    "\n",
    "Show that $\\widehat{X} = (A^TA + \\lambda I)^{-1} A^TB$.  Take the derivative of the above expression with respect to $x_j$.\n",
    "\n",
    "First, note that $f(x) = |x|$ then $f^{'}(x) = \\frac{x}{|x}$.  Then if $f(x) = |x|^2$, by the chain rule, $f^{'}(x) = 2|x| \\frac{x}{|x|} = 2x$.  So when I take the derivative of $|x|^2$, I'm just going to skip over the intermediate step. I'm going to take the derivative of the first term in the above summation.\n",
    "\n",
    "$\\frac{\\partial}{\\partial x_j} \\bigg(\\sum_{j=0}^k ||Ax_j - Be_j||^2 \\bigg) = \\frac{\\partial}{\\partial x_j}\\bigg( ||Ax_j - Be_j||^2 \\bigg)$ becuase we're taking the derivative with respect to each column of X individually\n",
    "\n",
    "\n",
    "$Ax_j = \\begin{bmatrix} <a_o, x_j> \\\\ <a_1, x_j> \\\\ \\vdots \\\\ <a_n, x_j> \\end{bmatrix}$  where $a_i$ is a row of A and $<a_i, x_j> = \\sum_k a_{ik} x_{jk}$\n",
    "\n",
    "To take the derivative of $<a_n, x_j>\\sum_k a_{ik} x_{jk}$ with respect to $x_j$, we have to take the derivative wrt to each component of $x_j$.  Then, the derivative is $a$ transposed into a column vector.  Let me know if this makes sense or not.\n",
    "\n",
    "$Be_j$ is $b_j$, a single column of b\n",
    "\n",
    "\n",
    "$||Ax_j - Be_j||^2 = |<a_o, x_j> - b_{j,0}|^2 + |<a_1, x_j> - b_{j,1}|^2 + \\cdots + |<a_n, x_j> - b_{j,n}|^2$\n",
    "\n",
    "$\\frac{\\partial}{\\partial x_j} \\bigg(||Ax_j - Be_j||^2 \\bigg) = 2 a_o^T ( <a_o, x_j> - b_{j,0}) +  2 a_1^T ( <a_1, x_j> - b_{j,1}) + \\cdots  2 a_n^T ( <a_n, x_j> - b_{j,0}) = \\sum_{i=1}^n 2 a_i^T ( <a_i, x_j> - b_{j,i})$\n",
    "\n",
    "$= \\sum_{i=1}^n 2 a_i^T ( \\sum_k a_{ik} x_{jk} - b_{j,i})$ This is a vector times a float.  So a single component $m$ of this vector is going to be \n",
    "\n",
    "$\\sum_{i=1}^n 2 a_{m,i} ( \\sum_k a_{ik} x_{jk} - b_{j,i}) = \\sum_{i=1}^n 2 a_{m,i} \\sum_k a_{ik} x_{jk} - \\sum_{i=1}^n 2 a_{m,i} b_{j,i} = \\sum_k \\sum_{i=1}^n 2 a_{m,i}a_{ik} x_{jk} - \\sum_{i=1}^n 2 a_{m,i} b_{j,i} $\n",
    "\n",
    "Let $c_{m,k} = \\sum_{i=1}^n a_{m,i}a_{ik}$ be an entry of this matrix.  Note, the matrix is equivalent to $A^TA$.  Then we can continue to simplify the above expression, \n",
    "\n",
    "$= 2 \\sum_k c_{m,k} x_{j,k} - 2 \\sum_{i=1}^n 2 a_{m,i} b_{j,i} = 2 <c_m, x_j> - 2<a_m, b_j>$  This is a row of $A^TA$ times the column $x_j$ minus a row of $A$ times columb $b_j$. So this is a single entry of our derivative vector $\\frac{\\partial}{\\partial x_j} $\n",
    "\n",
    "Then, we can summarize the entire derivative vector as $2A^T(Ax_j - Be_j)$.  This is very difficult to write out and make obvious.  I'll try to write it out better so that we can walk through it step by step at the next meeting.  I've found drawing pictures of the matrices and vectors and really understanding summation notation really helps.  \n",
    "\n",
    "Long story short, $ \\frac{\\partial}{\\partial x} ||Ax - b||_2^2$ is always $2A^T(Ax-b)$.  \n",
    "\n",
    "Code up a function that takes as input $A$, $B$, $\\lambda>0$ and returns $\\widehat{X}$.\n",
    "\n",
    "Code up a function that gives labels given input $A$, $X$. \n",
    "\n",
    "Train $\\widehat{X}$ using training data with $\\lambda = 10^{-4}$ and make label predictions on the test data.  What are the training and test error? They should both be about $15\\%$. \n",
    "\n",
    "3) Use a non-linear feature transform!\n",
    "\n",
    "Transform the features from 784 feature space to p space using $h(x) = cos(Gx + b)$ where $G \\in \\mathbb{R}^{p \\times d}$, $b \\in \\mathbb{R}^p$ and the cosine function is applied elementwise. Let $G$ be a random matrix with each entry sampled i.i.d from a Guassian with $\\mu = 0$ and variance $\\sigma^1 = 0.1$ (np.random.normal) and $b$ be a random vector sampled i.i.d from the uniform distribution on $[0, 2 \\pi]$ (np.random.uniform).  How do we choose p? Cross validation!!\n",
    "\n",
    "Partition the training set into proportion 80/20 training + validation.  Train a $\\widehat{X}^p$ for different values of $p$. Plot classifcaiton training error and validation error on a single plot with $p$ on the x-axis.  Your computer may run out of memory if $p$ is too large (p < 5000) should still run.  \n",
    "\n"
   ]
  },
  {
   "cell_type": "code",
   "execution_count": null,
   "metadata": {},
   "outputs": [],
   "source": []
  },
  {
   "cell_type": "code",
   "execution_count": null,
   "metadata": {},
   "outputs": [],
   "source": []
  }
 ],
 "metadata": {
  "kernelspec": {
   "display_name": "Python 3",
   "language": "python",
   "name": "python3"
  },
  "language_info": {
   "codemirror_mode": {
    "name": "ipython",
    "version": 3
   },
   "file_extension": ".py",
   "mimetype": "text/x-python",
   "name": "python",
   "nbconvert_exporter": "python",
   "pygments_lexer": "ipython3",
   "version": "3.8.3"
  }
 },
 "nbformat": 4,
 "nbformat_minor": 4
}
