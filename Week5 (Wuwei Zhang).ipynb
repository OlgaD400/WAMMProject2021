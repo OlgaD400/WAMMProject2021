{
 "cells": [
  {
   "cell_type": "markdown",
   "metadata": {},
   "source": [
    "# Week5 (Wuwei Zhang)"
   ]
  },
  {
   "cell_type": "code",
   "execution_count": 1,
   "metadata": {},
   "outputs": [],
   "source": [
    "import numpy as np\n",
    "import matplotlib.pyplot as plt\n",
    "from mnist import MNIST\n",
    "import math\n",
    "from sklearn.model_selection import train_test_split\n",
    "\n",
    "def load_dataset():\n",
    "    mndata = MNIST('C:/Users/Zhang/python-mnist/data')\n",
    "    A_train, labels_train = map(np.array, mndata.load_training()) \n",
    "    A_test, labels_test = map(np.array, mndata.load_testing()) \n",
    "    A_train = A_train/255.0\n",
    "    A_test = A_test/255.0\n",
    "    \n",
    "    return A_train, A_test, labels_train, labels_test\n",
    "\n",
    "A_train, A_test, labels_train, labels_test = load_dataset()\n",
    "\n",
    "\n",
    "B_labels_train = np.zeros((60000, 10))\n",
    "for i in range(len(labels_train)):\n",
    "    B_labels_train[i, labels_train[i]] = 1\n",
    "B_labels_test = np.zeros((10000, 10))\n",
    "for j in range(len(labels_test)):\n",
    "    B_labels_test[j, labels_test[j]] = 1"
   ]
  },
  {
   "cell_type": "markdown",
   "metadata": {},
   "source": [
    "## Use non-linear transformation, and then Solve X using ridge regression by hand\n",
    "* We will use the feature transform $h(x) = cos(G@A.T + y)$ to transform the features from 784 feature space to p space where $G \\in \\mathbb{R}^{p \\times d}$, $y \\in \\mathbb{R}^p$ and the cosine function is applied elementwise.\n",
    "* Let $G$ be a random matrix with each entry sampled i.i.d from a Guassian with $\\mu = 0$ and variance $\\sigma^1 = 0.1$ (np.random.normal) and $b$ be a random vector sampled i.i.d from the uniform distribution on $[0, 2 \\pi]$ (np.random.uniform)\n",
    "* choose p using cross-validation: 80/20 training + validation\n",
    "* solve solution X using $\\widehat{X} = (A^TA + \\lambda I)^{-1} A^TB$ where A here should be the matrix after transformation "
   ]
  },
  {
   "cell_type": "code",
   "execution_count": 2,
   "metadata": {},
   "outputs": [
    {
     "data": {
      "image/png": "[encoded data removed]",
      "text/plain": [
       "<Figure size 432x288 with 1 Axes>"
      ]
     },
     "metadata": {
      "needs_background": "light"
     },
     "output_type": "display_data"
    }
   ],
   "source": [
    "p = [10, 100, 200, 500, 1000, 2000]\n",
    "\n",
    "\n",
    "lam = 1e-4\n",
    "training_error = np.zeros(6)\n",
    "validation_error = np.zeros(6)\n",
    "\n",
    "for i in range(len(p)):\n",
    "    G = np.random.normal(0, 0.1, (p[i], 784))\n",
    "    y = np.random.uniform(0, 2 * math.pi, (p[i], 1))\n",
    "    Transform = np.cos(G@A_train.T + y).T\n",
    "    \n",
    "    x_train, x_vali, y_train, y_vali = train_test_split(Transform, B_labels_train,\n",
    "                                                        test_size = 0.2)\n",
    "    labels_training = np.argmax(y_train, axis = 1)\n",
    "    labels_validation = np.argmax(y_vali, axis = 1)\n",
    "    \n",
    "    # Fit the ridge model using training set   \n",
    "    inverse = np.linalg.pinv(x_train.T@x_train + lam*np.identity(p[i]))\n",
    "    # Compute solution X by hand\n",
    "    my_X = inverse@x_train.T@y_train \n",
    "    y_train_predicted = np.matmul(x_train, my_X)\n",
    "    y_vali_predicted = np.matmul(x_vali, my_X)\n",
    "    labels_train_predicted = np.argmax(y_train_predicted, axis = 1)\n",
    "    labels_vali_predicted = np.argmax(y_vali_predicted, axis = 1)\n",
    "    training_error[i] = np.count_nonzero(labels_training - \n",
    "                                         labels_train_predicted)/48000\n",
    "    validation_error[i] = np.count_nonzero(labels_validation - \n",
    "                                           labels_vali_predicted)/12000\n",
    "    \n",
    "\n",
    "plt.plot(p, validation_error, label=\"validation error\")\n",
    "plt.plot(p, training_error, label = \"training error\")\n",
    "plt.xlabel('p')\n",
    "plt.ylabel('Error')\n",
    "plt.legend()\n",
    "plt.show()"
   ]
  },
  {
   "cell_type": "code",
   "execution_count": 3,
   "metadata": {},
   "outputs": [
    {
     "name": "stdout",
     "output_type": "stream",
     "text": [
      "training error:  [0.55308333 0.184625   0.1271875  0.07902083 0.05097917 0.03397917]\n",
      "validation error:  [0.54891667 0.18183333 0.12758333 0.08316667 0.05941667 0.04325   ]\n"
     ]
    }
   ],
   "source": [
    "print(\"training error: \", training_error)\n",
    "print(\"validation error: \", validation_error)"
   ]
  },
  {
   "cell_type": "code",
   "execution_count": null,
   "metadata": {},
   "outputs": [],
   "source": []
  }
 ],
 "metadata": {
  "kernelspec": {
   "display_name": "Python 3",
   "language": "python",
   "name": "python3"
  },
  "language_info": {
   "codemirror_mode": {
    "name": "ipython",
    "version": 3
   },
   "file_extension": ".py",
   "mimetype": "text/x-python",
   "name": "python",
   "nbconvert_exporter": "python",
   "pygments_lexer": "ipython3",
   "version": "3.8.5"
  }
 },
 "nbformat": 4,
 "nbformat_minor": 4
}
