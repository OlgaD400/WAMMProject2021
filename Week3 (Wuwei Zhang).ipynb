{
 "cells": [
  {
   "cell_type": "markdown",
   "metadata": {},
   "source": [
    "# Week3 (Wuwei Zhang)"
   ]
  },
  {
   "cell_type": "code",
   "execution_count": 1,
   "metadata": {},
   "outputs": [],
   "source": [
    "import numpy as np\n",
    "# import matplotlib.pyplot as plt\n",
    "from mnist import MNIST\n",
    "\n",
    "def load_dataset():\n",
    "    mndata = MNIST('C:/Users/Zhang/python-mnist/data')\n",
    "    A_train, labels_train = map(np.array, mndata.load_training()) \n",
    "    A_test, labels_test = map(np.array, mndata.load_testing()) \n",
    "    A_train = A_train/255.0\n",
    "    A_test = A_test/255.0\n",
    "    \n",
    "    return A_train, A_test, labels_train, labels_test\n",
    "\n",
    "A_train, A_test, labels_train, labels_test = load_dataset()\n",
    "\n",
    "\n",
    "B_labels_train = np.zeros((60000, 10))\n",
    "for i in range(len(labels_train)):\n",
    "    B_labels_train[i, labels_train[i]] = 1\n",
    "B_labels_test = np.zeros((10000, 10))\n",
    "for j in range(len(labels_test)):\n",
    "    B_labels_test[j, labels_test[j]] = 1"
   ]
  },
  {
   "cell_type": "markdown",
   "metadata": {},
   "source": [
    "## Use Ridge by built-in function"
   ]
  },
  {
   "cell_type": "code",
   "execution_count": 3,
   "metadata": {},
   "outputs": [
    {
     "name": "stdout",
     "output_type": "stream",
     "text": [
      "[0.8117 0.8117 0.8117 0.8117]\n"
     ]
    }
   ],
   "source": [
    "from sklearn.linear_model import Ridge\n",
    "lam = [0.01, 0.02, 0.04, 0.08]\n",
    "accuracy = np.zeros(4)\n",
    "\n",
    "for i in range(len(lam)):\n",
    "    clf = Ridge(alpha=lam[i])\n",
    "    clf.fit(A_train, B_labels_train)\n",
    "    X = clf.coef_.T\n",
    "    B_test_predicted = np.matmul(A_test, clf.coef_.T)\n",
    "    labels_test_predicted = np.argmax(B_test_predicted, axis = 1)\n",
    "    accuracy[i] = 1-np.count_nonzero(labels_test - labels_test_predicted)/10000\n",
    "print(accuracy)"
   ]
  },
  {
   "cell_type": "markdown",
   "metadata": {},
   "source": [
    "## Solve X using ridge regression by hand\n",
    "$\\widehat{X} = (A^TA + \\lambda I)^{-1} A^TB$"
   ]
  },
  {
   "cell_type": "code",
   "execution_count": 4,
   "metadata": {},
   "outputs": [
    {
     "name": "stdout",
     "output_type": "stream",
     "text": [
      "[0.8533 0.8533 0.8533 0.8534]\n"
     ]
    }
   ],
   "source": [
    "lam = [0.01, 0.02, 0.04, 0.08]\n",
    "my_accuracy = np.zeros(4)\n",
    "\n",
    "for i in range(len(lam)):\n",
    "    inverse = np.linalg.pinv(A_train.T@A_train + lam[i]*np.identity(784))\n",
    "    # Compute solution X by hand\n",
    "    my_X = inverse@A_train.T@B_labels_train \n",
    "    B_test_predicted = np.matmul(A_test, my_X)\n",
    "    labels_test_predicted = np.argmax(B_test_predicted, axis = 1)\n",
    "    my_accuracy[i] = 1-np.count_nonzero(labels_test - labels_test_predicted)/10000\n",
    "print(my_accuracy)"
   ]
  },
  {
   "cell_type": "markdown",
   "metadata": {},
   "source": [
    "## my functions using ridge regression"
   ]
  },
  {
   "cell_type": "code",
   "execution_count": 5,
   "metadata": {},
   "outputs": [
    {
     "name": "stdout",
     "output_type": "stream",
     "text": [
      "train error:  0.18425\n",
      "test error:  0.1793\n"
     ]
    }
   ],
   "source": [
    "def compute_X(A, B, lam):\n",
    "    inverse = np.linalg.pinv(A.T@A + lam*np.identity(A.shape[1]))   \n",
    "    my_X = inverse@A_train.T@B_labels_train\n",
    "    return my_X\n",
    "    \n",
    "def compute_labels(A, X):    \n",
    "    B_predicted = np.matmul(A, X)\n",
    "    labels_predicted = np.argmax(B_predicted, axis = 1)\n",
    "    return labels_predicted\n",
    "    \n",
    "    \n",
    "X = compute_X(A_train, B_labels_train, 10^(-4))    \n",
    "labels_train_predicted = compute_labels(A_train, X)\n",
    "train_error = np.count_nonzero(labels_train - labels_train_predicted)/60000  \n",
    "labels_test_predicted = compute_labels(A_test, X)\n",
    "test_error = np.count_nonzero(labels_test - labels_test_predicted)/10000\n",
    "print(\"train error: \", train_error)\n",
    "print(\"test error: \", test_error)"
   ]
  },
  {
   "cell_type": "markdown",
   "metadata": {},
   "source": [
    "* I don't know why I got 18% error when using lam = 10^(-4), but got 15% error when using lam = [0.01, 0.02, 0.04, 0.08]"
   ]
  },
  {
   "cell_type": "code",
   "execution_count": null,
   "metadata": {},
   "outputs": [],
   "source": []
  }
 ],
 "metadata": {
  "kernelspec": {
   "display_name": "Python 3",
   "language": "python",
   "name": "python3"
  },
  "language_info": {
   "codemirror_mode": {
    "name": "ipython",
    "version": 3
   },
   "file_extension": ".py",
   "mimetype": "text/x-python",
   "name": "python",
   "nbconvert_exporter": "python",
   "pygments_lexer": "ipython3",
   "version": "3.8.5"
  }
 },
 "nbformat": 4,
 "nbformat_minor": 4
}
